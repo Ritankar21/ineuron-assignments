{
 "cells": [
  {
   "cell_type": "code",
   "execution_count": null,
   "id": "49ebf954",
   "metadata": {},
   "outputs": [],
   "source": [
    "1. ANS -\n",
    "Two curly brackets: {}\n",
    "\n",
    "    \n",
    "2.ANS -\n",
    "{'foo': 42}\n",
    "\n",
    "\n",
    "3.ANS - \n",
    "The items stored in a dictionary are unordered, while the items in a list are ordered.\n",
    "\n",
    "\n",
    "4.ANS - \n",
    "You get a KeyError error.\n",
    "\n",
    "\n",
    "5.ANS-\n",
    "There is no difference. The in operator checks whether a value exists as a key in the dictionary.\n",
    "\n",
    "\n",
    "6.ANS -\n",
    "The 'cat' in spam checks whether there is a 'cat' key in the dictionary, while 'cat' in spam.values() checks whether there is a value 'cat' for one of the keys in spam.\n",
    "\n",
    "\n",
    "7.ANS -\n",
    "spam.setdefault('color', 'black')\n",
    "\n",
    "\n",
    "8.ANS -\n",
    "pprint.pprint()"
   ]
  }
 ],
 "metadata": {
  "kernelspec": {
   "display_name": "Python 3",
   "language": "python",
   "name": "python3"
  },
  "language_info": {
   "codemirror_mode": {
    "name": "ipython",
    "version": 3
   },
   "file_extension": ".py",
   "mimetype": "text/x-python",
   "name": "python",
   "nbconvert_exporter": "python",
   "pygments_lexer": "ipython3",
   "version": "3.8.8"
  }
 },
 "nbformat": 4,
 "nbformat_minor": 5
}
