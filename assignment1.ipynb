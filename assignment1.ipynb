{
 "cells": [
  {
   "cell_type": "code",
   "execution_count": 1,
   "metadata": {},
   "outputs": [],
   "source": [
    "#print hello world"
   ]
  },
  {
   "cell_type": "code",
   "execution_count": 2,
   "metadata": {},
   "outputs": [
    {
     "name": "stdout",
     "output_type": "stream",
     "text": [
      "hello world\n"
     ]
    }
   ],
   "source": [
    "print(\"hello world\")"
   ]
  },
  {
   "cell_type": "code",
   "execution_count": 3,
   "metadata": {},
   "outputs": [],
   "source": [
    "#program to do addition and division"
   ]
  },
  {
   "cell_type": "code",
   "execution_count": 4,
   "metadata": {},
   "outputs": [
    {
     "name": "stdout",
     "output_type": "stream",
     "text": [
      "enter the first number :10\n",
      "enter the second number :5\n",
      "sum of 10 and 5 is : 15\n",
      "division of 10 and 5 is : 2.0\n"
     ]
    }
   ],
   "source": [
    "num1 = int(input(\"enter the first number :\"))\n",
    "num2 = int(input(\"enter the second number :\"))\n",
    "add = num1 + num2\n",
    "div = num1 / num2\n",
    "print('sum of',num1,'and',num2,'is :', add)\n",
    "print('division of',num1,'and',num2,'is :', div)"
   ]
  },
  {
   "cell_type": "code",
   "execution_count": 5,
   "metadata": {},
   "outputs": [],
   "source": [
    "#program to find area of triangle"
   ]
  },
  {
   "cell_type": "code",
   "execution_count": 6,
   "metadata": {},
   "outputs": [
    {
     "name": "stdout",
     "output_type": "stream",
     "text": [
      "enter the base of the triangle2\n",
      "enter the height of the triangle3\n",
      "the area of the triangle is : 3.0\n"
     ]
    }
   ],
   "source": [
    "num3 = int(input(\"enter the base of the triangle\"))\n",
    "num4 = int(input(\"enter the height of the triangle\"))\n",
    "area1 = 0.5 * num3 * num4\n",
    "print('the area of the triangle is :', area1 )"
   ]
  },
  {
   "cell_type": "code",
   "execution_count": 7,
   "metadata": {},
   "outputs": [],
   "source": [
    "#program to swap two variables"
   ]
  },
  {
   "cell_type": "code",
   "execution_count": 8,
   "metadata": {},
   "outputs": [
    {
     "name": "stdout",
     "output_type": "stream",
     "text": [
      "enter the value of a :5\n",
      "enter the value of b :50\n",
      "value of a after swapping : 50\n",
      "value of b after swapping : 5\n"
     ]
    }
   ],
   "source": [
    "a = int(input(\"enter the value of a :\"))\n",
    "b = int(input(\"enter the value of b :\"))\n",
    "\n",
    "temp = a\n",
    "a = b\n",
    "b = temp \n",
    "\n",
    "print('value of a after swapping :', a)\n",
    "print('value of b after swapping :', b)"
   ]
  },
  {
   "cell_type": "code",
   "execution_count": 9,
   "metadata": {},
   "outputs": [],
   "source": [
    "#program to generate a random number"
   ]
  },
  {
   "cell_type": "code",
   "execution_count": 10,
   "metadata": {},
   "outputs": [
    {
     "name": "stdout",
     "output_type": "stream",
     "text": [
      "the random number is : 5\n"
     ]
    }
   ],
   "source": [
    "import random\n",
    "num5 = random.randint(1,100)\n",
    "print(\"the random number is :\", num5)"
   ]
  },
  {
   "cell_type": "code",
   "execution_count": null,
   "metadata": {},
   "outputs": [],
   "source": []
  }
 ],
 "metadata": {
  "kernelspec": {
   "display_name": "Python 3",
   "language": "python",
   "name": "python3"
  },
  "language_info": {
   "codemirror_mode": {
    "name": "ipython",
    "version": 3
   },
   "file_extension": ".py",
   "mimetype": "text/x-python",
   "name": "python",
   "nbconvert_exporter": "python",
   "pygments_lexer": "ipython3",
   "version": "3.8.5"
  }
 },
 "nbformat": 4,
 "nbformat_minor": 4
}
