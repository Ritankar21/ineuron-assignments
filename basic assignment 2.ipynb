{
 "cells": [
  {
   "cell_type": "code",
   "execution_count": 2,
   "id": "83b8c270",
   "metadata": {},
   "outputs": [
    {
     "ename": "SyntaxError",
     "evalue": "invalid syntax (<ipython-input-2-c015b7626ed7>, line 1)",
     "output_type": "error",
     "traceback": [
      "\u001b[1;36m  File \u001b[1;32m\"<ipython-input-2-c015b7626ed7>\"\u001b[1;36m, line \u001b[1;32m1\u001b[0m\n\u001b[1;33m    1. ANS -\u001b[0m\n\u001b[1;37m       ^\u001b[0m\n\u001b[1;31mSyntaxError\u001b[0m\u001b[1;31m:\u001b[0m invalid syntax\n"
     ]
    }
   ],
   "source": [
    "1. ANS -\n",
    "\n",
    "  Two values of boolean data types are \n",
    "    i)True\n",
    "    ii)False\n",
    "    \n",
    "\n",
    "2. ANS -\n",
    "\n",
    "   Three boolean operators are \n",
    "    i) AND \n",
    "    ii) OR\n",
    "    iii) NOT\n",
    "    \n",
    "3. ANS - \n",
    "\n",
    "    For AND operator \n",
    "    \n",
    "    False && False is False\n",
    "    False && true is False\n",
    "    true && False is False\n",
    "    true && true is true\n",
    "    \n",
    "    for OR operator\n",
    "    \n",
    "    False || False is False\n",
    "    False || true is true\n",
    "    true || False is true\n",
    "    true || False is true\n",
    "    \n",
    "    for not operator\n",
    "\n",
    "    False  will be true\n",
    "    true will be false\n",
    "    \n",
    "\n",
    "4. ANS -\n",
    "\n",
    "   False\n",
    "   False\n",
    "   True\n",
    "   False \n",
    "   False \n",
    "   True\n",
    "    \n",
    "    \n",
    "5. ANS -\n",
    "\n",
    "    6 comparison operators in python are  - \n",
    "     ==\n",
    "    >\n",
    "    >=\n",
    "    <\n",
    "    <=\n",
    "    !=\n",
    "    \n",
    "    \n",
    "6. ANS = \n",
    "\n",
    "The “=” is an assignment operator is used to assign the value on the right to the variable on the left.\n",
    "The '==' operator checks whether the two given operands are equal or not. If so, it returns true. Otherwise it returns false.\n",
    "\n",
    "    \n",
    "7. ANS = \n",
    "\n",
    "\n",
    "The first block starts after we use if statement for the 1st time.\n",
    "2nd block starts after we use the if statement again.\n",
    "the 3rd starts after we use the else statement.\n",
    "\n",
    "\n",
    "\n",
    "\n"
   ]
  },
  {
   "cell_type": "code",
   "execution_count": 3,
   "id": "a4f204d1",
   "metadata": {},
   "outputs": [
    {
     "name": "stdout",
     "output_type": "stream",
     "text": [
      "2\n",
      "Greetings!\n"
     ]
    }
   ],
   "source": [
    "#8 answer -\n",
    "\n",
    "spam = input()\n",
    "\n",
    "if spam == 1:\n",
    "    print('Hello')\n",
    "if spam == 2:\n",
    "    print('Howdy')\n",
    "else :\n",
    "    print('Greetings!')"
   ]
  },
  {
   "cell_type": "code",
   "execution_count": 4,
   "id": "afea48b9",
   "metadata": {},
   "outputs": [
    {
     "ename": "SyntaxError",
     "evalue": "invalid syntax (<ipython-input-4-6868492ad97b>, line 1)",
     "output_type": "error",
     "traceback": [
      "\u001b[1;36m  File \u001b[1;32m\"<ipython-input-4-6868492ad97b>\"\u001b[1;36m, line \u001b[1;32m1\u001b[0m\n\u001b[1;33m    9. ANS -\u001b[0m\n\u001b[1;37m       ^\u001b[0m\n\u001b[1;31mSyntaxError\u001b[0m\u001b[1;31m:\u001b[0m invalid syntax\n"
     ]
    }
   ],
   "source": [
    "9. ANS -\n",
    "\n",
    "we can stop endless loop by pressing CTRL + C or using break statement also works.\n",
    "\n",
    "\n",
    "10. ANS - \n",
    "\n",
    "Break is used to stop the loop or terminate the ongoing loop.\n",
    "Continue is used for continuation of the loop.\n",
    "\n",
    "11. ANS -\n",
    "\n",
    "range(10) means the values of first 10 numbers from 0 to 9.\n",
    "range(0,10) means all the values or numbers from 0 to 9.\n",
    "range(0,10,1) means it will start at 0 and end at 9 with a step index of 1 so the output will be 0,1,2,3,4,5,6,7,8,9\n",
    "\n",
    " \n",
    "\n"
   ]
  },
  {
   "cell_type": "code",
   "execution_count": 5,
   "id": "96bf15d7",
   "metadata": {},
   "outputs": [
    {
     "name": "stdout",
     "output_type": "stream",
     "text": [
      "1\n",
      "2\n",
      "3\n",
      "4\n",
      "5\n",
      "6\n",
      "7\n",
      "8\n",
      "9\n",
      "10\n",
      "1\n",
      "2\n",
      "3\n",
      "4\n",
      "5\n",
      "6\n",
      "7\n",
      "8\n",
      "9\n",
      "10\n"
     ]
    }
   ],
   "source": [
    "#12 ans -\n",
    "\n",
    "for i in range(1,11):\n",
    "    print(i)\n",
    "    \n",
    "    \n",
    "i = 1\n",
    "while(i<=10):\n",
    "    print(i)\n",
    "    i += 1"
   ]
  },
  {
   "cell_type": "code",
   "execution_count": 6,
   "id": "02e7e4ac",
   "metadata": {},
   "outputs": [
    {
     "ename": "SyntaxError",
     "evalue": "invalid syntax (<ipython-input-6-372c202d76bb>, line 1)",
     "output_type": "error",
     "traceback": [
      "\u001b[1;36m  File \u001b[1;32m\"<ipython-input-6-372c202d76bb>\"\u001b[1;36m, line \u001b[1;32m1\u001b[0m\n\u001b[1;33m    13. ANS -\u001b[0m\n\u001b[1;37m        ^\u001b[0m\n\u001b[1;31mSyntaxError\u001b[0m\u001b[1;31m:\u001b[0m invalid syntax\n"
     ]
    }
   ],
   "source": [
    "13. ANS - \n",
    "\n",
    "we call it by \n",
    "spam.bacon()\n"
   ]
  },
  {
   "cell_type": "code",
   "execution_count": null,
   "id": "fde4fc5e",
   "metadata": {},
   "outputs": [],
   "source": []
  }
 ],
 "metadata": {
  "kernelspec": {
   "display_name": "Python 3",
   "language": "python",
   "name": "python3"
  },
  "language_info": {
   "codemirror_mode": {
    "name": "ipython",
    "version": 3
   },
   "file_extension": ".py",
   "mimetype": "text/x-python",
   "name": "python",
   "nbconvert_exporter": "python",
   "pygments_lexer": "ipython3",
   "version": "3.8.8"
  }
 },
 "nbformat": 4,
 "nbformat_minor": 5
}
